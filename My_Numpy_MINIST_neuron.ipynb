{
 "cells": [
  {
   "cell_type": "code",
   "execution_count": 384,
   "metadata": {},
   "outputs": [],
   "source": [
    "import numpy as np\n",
    "import tensorflow as tf\n",
    "import matplotlib.pyplot as plt\n",
    "import emnist\n"
   ]
  },
  {
   "cell_type": "code",
   "execution_count": 112,
   "metadata": {},
   "outputs": [],
   "source": [
    "def sigmoid(z):\n",
    "        return 1.0 / (1.0 + np.exp(-z))\n",
    "def ReLU(z):\n",
    "        return np.maximum(0,z)\n",
    "def d_ReLU(z):\n",
    "        return np.where(z > 0, 1, 0)\n",
    "def Softmax(z):\n",
    "        exp_vals = np.exp(z)\n",
    "        return exp_vals / np.sum(exp_vals)\n",
    "def d_Softmax(z):\n",
    "        s = Softmax(z)\n",
    "        return s * (1 - s)\n",
    "def d_sigmoid(x):\n",
    "        sig = sigmoid(x)\n",
    "        return sig * (1.0 - sig)"
   ]
  },
  {
   "cell_type": "code",
   "execution_count": 113,
   "metadata": {},
   "outputs": [
    {
     "name": "stdout",
     "output_type": "stream",
     "text": [
      "Forma de los datos de entrenamiento: (60000, 28, 28)\n",
      "Forma de los datos de prueba: (10000, 28, 28)\n",
      "(28, 28)\n",
      "Etiqueta correspondiente: 6\n",
      "Dimensiones y tipo de dato de cada prueba: (28, 28) <class 'numpy.ndarray'>\n"
     ]
    },
    {
     "data": {
      "image/png": "[encoded data removed]",
      "text/plain": [
       "<Figure size 200x200 with 1 Axes>"
      ]
     },
     "metadata": {},
     "output_type": "display_data"
    }
   ],
   "source": [
    "\n",
    "\n",
    "# Cargar la base de datos MNIST\n",
    "mnist = tf.keras.datasets.mnist\n",
    "(x_train, y_train), (x_test, y_test) = mnist.load_data()\n",
    "\n",
    "# Imprimir la forma de los conjuntos de datos\n",
    "print(\"Forma de los datos de entrenamiento:\", x_train.shape)  # (60000, 28, 28)\n",
    "print(\"Forma de los datos de prueba:\", x_test.shape)  # (10000, 28, 28)\n",
    "tst = 2000\n",
    "# Ejemplo de acceso a los datos de entrenamiento\n",
    "#primer_ejemplo = x_train[0]\n",
    "plt.figure(figsize=(2, 2))\n",
    "plt.imshow(x_test[tst]*(1/255.0),cmap='gray')\n",
    "print(x_test[0].shape)\n",
    "primer_etiqueta = y_test[tst]\n",
    "print(\"Etiqueta correspondiente:\", primer_etiqueta)\n",
    "print(\"Dimensiones y tipo de dato de cada prueba:\",x_train[0].shape,type(x_train[0]))"
   ]
  },
  {
   "cell_type": "code",
   "execution_count": 114,
   "metadata": {},
   "outputs": [
    {
     "name": "stdout",
     "output_type": "stream",
     "text": [
      "Forma de los datos de entrenamiento vectorizados: (60000, 784)\n",
      "Forma de los datos de entrenamiento vectorizados: (10000, 784)\n"
     ]
    }
   ],
   "source": [
    "x_train_vectorizado = x_train.reshape(x_train.shape[0], -1) / 255.0\n",
    "x_test_vectorizado = x_test.reshape(x_test.shape[0], -1) / 255.0\n",
    "# Imprimir la forma de los datos vectorizados\n",
    "print(\"Forma de los datos de entrenamiento vectorizados:\", x_train_vectorizado.shape)\n",
    "print(\"Forma de los datos de entrenamiento vectorizados:\", x_test_vectorizado.shape)\n",
    "\n"
   ]
  },
  {
   "cell_type": "code",
   "execution_count": 357,
   "metadata": {},
   "outputs": [],
   "source": [
    "class My_Network(object):\n",
    "    def __init__(self, sizes, X_train, Y_train, eta):\n",
    "        self.num_layers = len(sizes)\n",
    "        self.sizes = sizes\n",
    "        self.biases = [np.random.normal(0, 1, (y, 1)) for y in sizes[1:]]\n",
    "        self.weights = [np.random.normal(0, np.sqrt(1 / x), (y, x)) for x, y in zip(sizes[:-1], sizes[1:])]\n",
    "        self.X_train = X_train\n",
    "        self.Y_train = Y_train\n",
    "        self.eta = eta\n",
    "\n",
    "    def sigmoid(self, z):\n",
    "        return 1.0 / (1.0 + np.exp(-z))\n",
    "        \n",
    "    def ReLU(self, z):\n",
    "        return np.maximum(0, z)\n",
    "\n",
    "    def d_ReLU(self, z):\n",
    "        return np.where(z > 0, 1, 0)\n",
    "    \n",
    "    def Softmax(self, z):\n",
    "        exp_vals = np.exp(z)\n",
    "        return exp_vals / np.sum(exp_vals)\n",
    "\n",
    "    def d_Softmax(self, z):\n",
    "        s = self.Softmax(z)\n",
    "        return s * (1 - s)\n",
    "\n",
    "    def d_sigmoid(self, x):\n",
    "        sig = self.sigmoid(x)\n",
    "        return sig * (1.0 - sig)\n",
    "    \n",
    "    def derivada_costo(self, a, y):\n",
    "        return (a - y)\n",
    "\n",
    "    def BackPropagation(self, x, y):\n",
    "        nabla_b = [np.zeros(b.shape) for b in self.biases]\n",
    "        nabla_w = [np.zeros(w.shape) for w in self.weights]\n",
    "        x1 = np.reshape(x, (x.shape[0], 1))\n",
    "        activacion = x1\n",
    "        activaciones = [x1]\n",
    "\n",
    "        zs = []\n",
    "\n",
    "        for b, w in zip(self.biases[:-1], self.weights[:-1]):\n",
    "            z = np.dot(w, activacion) + b\n",
    "            zs.append(z)\n",
    "            activacion = self.ReLU(z)\n",
    "            activaciones.append(activacion)\n",
    "\n",
    "        z = np.dot(self.weights[-1], activaciones[-1]) + self.biases[-1]\n",
    "        zs.append(z)\n",
    "        activacion = self.Softmax(z)\n",
    "        activaciones.append(activacion)\n",
    "\n",
    "        vec_y = np.zeros((10,1))\n",
    "        vec_y[y] = 1\n",
    "        \n",
    "        #print(activaciones[-1].shape,vec_y.shape)\n",
    "        delta = self.derivada_costo(activaciones[-1], vec_y) * self.d_Softmax(zs[-1])\n",
    "        nabla_b[-1] = delta\n",
    "        nabla_w[-1] = np.dot(delta, activaciones[-2].T)\n",
    "\n",
    "        for l in range(2, self.num_layers):\n",
    "            z = zs[-l]\n",
    "            sp = self.d_ReLU(z)\n",
    "            delta = np.dot(self.weights[-l + 1].T, delta) * sp\n",
    "            nabla_b[-l] = delta\n",
    "            nabla_w[-l] = np.dot(delta, activaciones[-l - 1].T)\n",
    "        \n",
    "        return (nabla_b, nabla_w)\n",
    "\n",
    "    def train(self, epochs, batch_size):\n",
    "        for epoch in range(epochs):\n",
    "            data = list(zip(self.X_train, self.Y_train))\n",
    "            np.random.shuffle(data)\n",
    "            mini_batches = [data[k:k + batch_size] for k in range(0, len(data), batch_size)]\n",
    "            \n",
    "            for mini_batch in mini_batches:\n",
    "                nabla_b = [np.zeros(b.shape) for b in self.biases]\n",
    "                nabla_w = [np.zeros(w.shape) for w in self.weights]\n",
    "                for x, y in mini_batch:\n",
    "                    delta_nabla_b, delta_nabla_w = self.BackPropagation(x, y)\n",
    "                    nabla_b = [nb + dnb for nb, dnb in zip(nabla_b, delta_nabla_b)]\n",
    "                    nabla_w = [nw + dnw for nw, dnw in zip(nabla_w, delta_nabla_w)]\n",
    "\n",
    "                self.weights = [w - (self.eta / len(mini_batch)) * nw \n",
    "                                for w, nw in zip(self.weights, nabla_w)]\n",
    "                self.biases = [b - (self.eta / len(mini_batch)) * nb \n",
    "                               for b, nb in zip(self.biases, nabla_b)]\n",
    "\n",
    "    def predict(self, X):\n",
    "        x1 = np.reshape(X, (X.shape[0], 1))\n",
    "        activations = x1\n",
    "        for b, w in zip(self.biases[:-1], self.weights[:-1]):\n",
    "            #print(b.shape,w.shape)\n",
    "            z = np.dot(w, activations) + b\n",
    "            #print(z)\n",
    "            activations = self.ReLU(z)\n",
    "\n",
    "        z = np.dot(self.weights[-1],activations)+self.biases[-1]\n",
    "        activations = Softmax(z)\n",
    "\n",
    "       \n",
    "        return activations"
   ]
  },
  {
   "cell_type": "code",
   "execution_count": 358,
   "metadata": {},
   "outputs": [],
   "source": [
    "# Crear una instancia de la red neuronal\n",
    "network = My_Network(sizes=[784,30, 10],X_train= x_train_vectorizado,Y_train= y_train, eta=0.1)\n",
    "# Entrenar la red neuronal\n",
    "network.train(epochs=20, batch_size=32)\n",
    "\n"
   ]
  },
  {
   "cell_type": "code",
   "execution_count": 381,
   "metadata": {},
   "outputs": [
    {
     "name": "stdout",
     "output_type": "stream",
     "text": [
      "2\n"
     ]
    },
    {
     "data": {
      "image/png": "[encoded data removed]",
      "text/plain": [
       "<Figure size 200x200 with 1 Axes>"
      ]
     },
     "metadata": {},
     "output_type": "display_data"
    }
   ],
   "source": [
    "num_test = int(np.random.uniform(0,9999))\n",
    "plt.figure(figsize=(2, 2))\n",
    "plt.imshow(x_test[num_test]/255.0, cmap='gray')\n",
    "res = np.argmax(network.predict(x_test_vectorizado[num_test]))\n",
    "print(res)"
   ]
  },
  {
   "cell_type": "code",
   "execution_count": 387,
   "metadata": {},
   "outputs": [
    {
     "name": "stdout",
     "output_type": "stream",
     "text": [
      "La precision es de : 9503\n"
     ]
    }
   ],
   "source": [
    "aciertos = 0\n",
    "for i in range(len(y_test)):\n",
    "    if np.argmax(network.predict(x_test_vectorizado[i])) == y_test[i]:\n",
    "        aciertos += 1\n",
    "    else:\n",
    "        aciertos = aciertos\n",
    "    \n",
    "print(\"La precision es de :\",aciertos)"
   ]
  },
  {
   "cell_type": "markdown",
   "metadata": {},
   "source": [
    "### AHORA USANDO LETRAS EN LUGAR DE DIGITOS"
   ]
  }
 ],
 "metadata": {
  "kernelspec": {
   "display_name": "Python 3.10.8 ('myenv')",
   "language": "python",
   "name": "python3"
  },
  "language_info": {
   "codemirror_mode": {
    "name": "ipython",
    "version": 3
   },
   "file_extension": ".py",
   "mimetype": "text/x-python",
   "name": "python",
   "nbconvert_exporter": "python",
   "pygments_lexer": "ipython3",
   "version": "3.10.8"
  },
  "orig_nbformat": 4,
  "vscode": {
   "interpreter": {
    "hash": "de1e89af3ef8b17e93d79e53c27fdd6267335e03ee420ef3296d6319bf4dd9be"
   }
  }
 },
 "nbformat": 4,
 "nbformat_minor": 2
}
